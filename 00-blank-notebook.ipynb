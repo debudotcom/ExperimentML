{
  "cells": [
    {
      "cell_type": "markdown",
      "metadata": {},
      "source": [
        "# Blank notebook\n",
        "\n",
        "This is a blank notebook.\n",
        "\n",
        "It is useful for test taking or as a scratch pad.\n",
        "\n",
        "New cells will appear at the bottom when the last cell is run."
      ],
      "id": "3fadad50eba2-c2a2-4a0b-98sd0c-sd"
    },
    {
      "cell_type": "code",
      "execution_count": 1,
      "metadata": {},
      "outputs": [],
      "source": [
        "using MTH229\n",
        "using Plots\n",
        "plotly()"
      ],
      "id": "1234qwe"
    },
    {
      "cell_type": "code",
      "execution_count": 2,
      "metadata": {},
      "outputs": [],
      "source": [
        "# Enter your commands here"
      ],
      "id": "678erer"
    }
  ],
  "nbformat": 4,
  "nbformat_minor": 5  
}